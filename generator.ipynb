{
 "cells": [
  {
   "cell_type": "markdown",
   "metadata": {},
   "source": [
    "# Generating Images from Models"
   ]
  },
  {
   "cell_type": "code",
   "execution_count": 1,
   "metadata": {},
   "outputs": [],
   "source": [
    "import sys\n",
    "import os\n",
    "os.environ['TF_CPP_MIN_LOG_LEVEL'] = '3' \n",
    "import tensorflow as tf\n",
    "from src.models import unet_generator\n",
    "from src.generate_image import generate_image, GAN_image_folder\n",
    "import os, shutil\n",
    "from sys import argv\n",
    "from src.make_dataset import parse_and_save_dir"
   ]
  },
  {
   "cell_type": "markdown",
   "metadata": {},
   "source": [
    "First, we need to load the parameters that we used in the cyclegan training:\n",
    "\n",
    "`identifier`: This will be the name of the model that will be useful for saving and loading checkpoints\n",
    "\n",
    "`parent_dir`: Location of the `cycle_gan` repository\n",
    "\n",
    "`sim_dir_raw`: The path to the folder containing simulated images\n",
    "\n",
    "`gaussian`: Set this parameter to some number if you want to add gaussian noise with a given stddev to the simulation data\n",
    "\n",
    "`num_channels`: The number of channels of the experimental images\n",
    "\n",
    "`chkpt_range`: The range of checkpoint indices we want to use to generate the images. If `None`, generates a folder for every checkpoint\n",
    "\n",
    "`sim_dir_raw`: The path to the folder of simulated images we want to GAN\n",
    "\n",
    "\n",
    "Generated images will be saved in \n",
    "\n",
    "`ganned_dir = parent_dir + \"data/GAN/exp/{}_CKPT_{}/\".format(identifier, chkpt_idx)`\n"
   ]
  },
  {
   "cell_type": "code",
   "execution_count": null,
   "metadata": {},
   "outputs": [],
   "source": [
    "identifier = \"20240426_DATA_brightfield_mixed_edit\"\n",
    "\n",
    "parent_dir = \"/mnt/d/cycle_gan/\"\n",
    "\n",
    "gaussian   = 0.1 \n",
    "\n",
    "num_channels=1\n",
    "\n",
    "chkpt_range = -1\n",
    "\n",
    "sim_dir_raw = parent_dir + \"data/sim/brightfield_mixed_synth/\""
   ]
  },
  {
   "cell_type": "markdown",
   "metadata": {},
   "source": [
    "Next, we load the checkpoint"
   ]
  },
  {
   "cell_type": "code",
   "execution_count": null,
   "metadata": {},
   "outputs": [],
   "source": [
    "checkpoint_path = parent_dir + \"cycle_gan_results/checkpoints/checkpoint_{}\".format(identifier)\n",
    "\n",
    "num_channels = 1\n",
    "generator_exp = unet_generator(num_channels, 1, \"instancenorm\")\n",
    "generator_sim = unet_generator(1, num_channels, \"instancenorm\")\n",
    "\n",
    "# ## Checkpoints\n",
    "checkpoint_path = parent_dir + \"cycle_gan_results/checkpoints/checkpoint_{}\".format(identifier)\n",
    "\n",
    "ckpt = tf.train.Checkpoint(generator_exp=generator_exp,\n",
    "                           generator_sim=generator_sim)\n",
    "\n",
    "ckpt_manager = tf.train.CheckpointManager(ckpt, checkpoint_path, max_to_keep=None)\n",
    "\n",
    "# if a checkpoint exists, restore the latest checkpoint.\n",
    "num_ckpts = len(ckpt_manager.checkpoints)\n",
    "print(\" number of checkpoints \", num_ckpts)\n",
    "if chkpt_range == None:\n",
    "    chkpt_range = range(num_ckpts)\n",
    "if isinstance(chkpt_range, int):\n",
    "    chkpt_range = [chkpt_range]\n",
    "\n",
    "def cycle(x):\n",
    "    return generator_sim(generator_exp(x))"
   ]
  },
  {
   "cell_type": "markdown",
   "metadata": {},
   "source": [
    "Next, we parse the simulated images"
   ]
  },
  {
   "cell_type": "code",
   "execution_count": 4,
   "metadata": {},
   "outputs": [],
   "source": [
    "sim_dir = sim_dir_raw[:-1] + \"_gauss_{}_256_slices_TO_GAN/\".format(gaussian)\n",
    "parse_and_save_dir(sim_dir_raw, sim_dir, 256, 256, num_channels=num_channels, gaussian=gaussian)"
   ]
  },
  {
   "cell_type": "markdown",
   "metadata": {},
   "source": [
    "Finally, we gann the folder containing the images"
   ]
  },
  {
   "cell_type": "code",
   "execution_count": null,
   "metadata": {},
   "outputs": [],
   "source": [
    "#GAN A FOLDER\n",
    "for i in chkpt_range:\n",
    "    ckpt.restore(ckpt_manager.checkpoints[i])\n",
    "    print(\"Restored from {}\".format(ckpt_manager.checkpoints[i]))\n",
    "    print(\"Cycle GAN\")\n",
    "\n",
    "    model      = generator_exp\n",
    "    data_dir   = sim_dir\n",
    "    ganned_dir = parent_dir + \"data/GAN/exp/{}_CKPT_{}/\".format(identifier, i)\n",
    "    GAN_image_folder(model, data_dir, ganned_dir, 256, 256, False)"
   ]
  }
 ],
 "metadata": {
  "kernelspec": {
   "display_name": "Python 3",
   "language": "python",
   "name": "python3"
  },
  "language_info": {
   "codemirror_mode": {
    "name": "ipython",
    "version": 3
   },
   "file_extension": ".py",
   "mimetype": "text/x-python",
   "name": "python",
   "nbconvert_exporter": "python",
   "pygments_lexer": "ipython3",
   "version": "3.10.12"
  },
  "orig_nbformat": 4,
  "vscode": {
   "interpreter": {
    "hash": "916dbcbb3f70747c44a77c7bcd40155683ae19c65e1c03b4aa3499c5328201f1"
   }
  }
 },
 "nbformat": 4,
 "nbformat_minor": 2
}
